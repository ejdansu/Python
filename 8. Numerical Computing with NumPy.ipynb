{
 "cells": [
  {
   "cell_type": "markdown",
   "id": "c2865747-df01-44f2-882d-caa8d6ebe990",
   "metadata": {},
   "source": [
    "# Numerical Computing with NumPy\n",
    "* NumPy (Numerical Python) is a powerful library in Python used for numerical computing.\n",
    "* It provides support for large, multi-dimensional arrays and matrices, along with a collection of mathematical functions to operate on these arrays efficiently.\n",
    "* NumPy's flexibility and efficiency make it an essential tool for numerical computing and data analysis in Python."
   ]
  },
  {
   "cell_type": "markdown",
   "id": "f2cae906-7072-46c7-8105-4846c45ec033",
   "metadata": {},
   "source": [
    "## 1. Installation\n",
    "If you haven't already installed NumPy, you can do so via pip:"
   ]
  },
  {
   "cell_type": "code",
   "execution_count": 1,
   "id": "28db80be-4e8c-4528-93e1-0fdbdb59e328",
   "metadata": {},
   "outputs": [
    {
     "name": "stdout",
     "output_type": "stream",
     "text": [
      "Requirement already satisfied: numpy in c:\\users\\ejdan\\anaconda3\\lib\\site-packages (1.22.1)\n",
      "Note: you may need to restart the kernel to use updated packages.\n"
     ]
    },
    {
     "name": "stderr",
     "output_type": "stream",
     "text": [
      "\n",
      "[notice] A new release of pip is available: 23.2.1 -> 24.0\n",
      "[notice] To update, run: python.exe -m pip install --upgrade pip\n"
     ]
    }
   ],
   "source": [
    "pip install numpy"
   ]
  },
  {
   "cell_type": "markdown",
   "id": "182c3d93-3410-4351-8e54-37b8d8796a4a",
   "metadata": {},
   "source": [
    "## 2. Importing NumPy"
   ]
  },
  {
   "cell_type": "code",
   "execution_count": 3,
   "id": "9b762e00-bf96-45ed-a76a-a180f79b7181",
   "metadata": {},
   "outputs": [],
   "source": [
    "import numpy as np"
   ]
  },
  {
   "cell_type": "markdown",
   "id": "df9adf1f-0ba3-4753-b667-3e46b95a71be",
   "metadata": {},
   "source": [
    "## 3. Creating NumPy Arrays\n",
    "* NumPy arrays are the core of the library.\n",
    "* You can create arrays in various ways:"
   ]
  },
  {
   "cell_type": "markdown",
   "id": "b6d51e19-053b-47b3-89d4-bf96dcde653c",
   "metadata": {},
   "source": [
    "### From a Python List"
   ]
  },
  {
   "cell_type": "code",
   "execution_count": 5,
   "id": "909bc9b4-e105-4d5c-b09f-fa09261eb9f8",
   "metadata": {},
   "outputs": [
    {
     "name": "stdout",
     "output_type": "stream",
     "text": [
      "[1 2 3 4 5]\n"
     ]
    }
   ],
   "source": [
    "my_list = [1, 2, 3, 4, 5]\n",
    "\n",
    "arr = np.array(my_list)\n",
    "\n",
    "print(arr)  # [1 2 3 4 5]"
   ]
  },
  {
   "cell_type": "code",
   "execution_count": 6,
   "id": "079c95e5-3066-4cad-9794-7bcffa596056",
   "metadata": {},
   "outputs": [
    {
     "name": "stdout",
     "output_type": "stream",
     "text": [
      "[1 2 3 4 5]\n"
     ]
    }
   ],
   "source": [
    "my_tuple = (1, 2, 3, 4, 5)\n",
    "\n",
    "ar = np.array(my_tuple)\n",
    "\n",
    "print(ar)  # [1 2 3 4 5]"
   ]
  },
  {
   "cell_type": "markdown",
   "id": "23bcc3c9-a4a9-489e-aae8-181ad215a88c",
   "metadata": {},
   "source": [
    "### Using _np.arange()_"
   ]
  },
  {
   "cell_type": "code",
   "execution_count": 7,
   "id": "7a1af215-cc4c-45cb-9b5e-c9aa69ccb67a",
   "metadata": {},
   "outputs": [
    {
     "name": "stdout",
     "output_type": "stream",
     "text": [
      "[0 2 4 6 8]\n"
     ]
    }
   ],
   "source": [
    "arr = np.arange(0, 10, 2)  # start, stop (exclusive), step\n",
    "print(arr)  # [0 2 4 6 8]"
   ]
  },
  {
   "cell_type": "code",
   "execution_count": 8,
   "id": "f2454059-1b93-40ef-a793-95b47b276d18",
   "metadata": {},
   "outputs": [
    {
     "name": "stdout",
     "output_type": "stream",
     "text": [
      "[ 1  3  5  7  9 11 13 15 17 19 21 23 25 27 29 31 33 35 37 39 41 43 45 47\n",
      " 49]\n"
     ]
    }
   ],
   "source": [
    "ray= np.arange(1, 50, 2)\n",
    "print(ray)"
   ]
  },
  {
   "cell_type": "markdown",
   "id": "ecf8c5f3-d4d0-4fc5-b442-2f614062d619",
   "metadata": {},
   "source": [
    "### Using _np.zeros()_ and _np.ones()_"
   ]
  },
  {
   "cell_type": "code",
   "execution_count": 11,
   "id": "4244d606-6bda-4734-8459-aa62cfeae6ed",
   "metadata": {},
   "outputs": [
    {
     "name": "stdout",
     "output_type": "stream",
     "text": [
      "[[0. 0. 0.]\n",
      " [0. 0. 0.]]\n",
      "\n",
      "[[1. 1.]\n",
      " [1. 1.]\n",
      " [1. 1.]]\n"
     ]
    }
   ],
   "source": [
    "zeros_arr = np.zeros((2, 3))  # Create a 2x3 array of zeros\n",
    "ones_arr = np.ones((3, 2))    # Create a 3x2 array of ones\n",
    "print(zeros_arr)\n",
    "print()\n",
    "print(ones_arr)"
   ]
  },
  {
   "cell_type": "markdown",
   "id": "826bc4cd-888d-4cb3-8e77-553fe9ee810e",
   "metadata": {},
   "source": [
    "## 4. Array Operations\n",
    "NumPy arrays support element-wise operations, broadcasting, and various mathematical functions:"
   ]
  },
  {
   "cell_type": "markdown",
   "id": "09d2a26b-9180-478e-b52a-9220c01215bc",
   "metadata": {},
   "source": [
    "### Element-wise Operations"
   ]
  },
  {
   "cell_type": "code",
   "execution_count": 12,
   "id": "b9de7f31-fdf8-4a52-be99-752da54f2e15",
   "metadata": {},
   "outputs": [
    {
     "name": "stdout",
     "output_type": "stream",
     "text": [
      "[5 7 9]\n",
      "[ 4 10 18]\n"
     ]
    }
   ],
   "source": [
    "arr1 = np.array([1, 2, 3])\n",
    "arr2 = np.array([4, 5, 6])\n",
    "\n",
    "print(arr1 + arr2)  # [5 7 9]\n",
    "print(arr1 * arr2)  # [4 10 18]"
   ]
  },
  {
   "cell_type": "markdown",
   "id": "3da7624f-230e-4927-9d0f-f7df5bea7875",
   "metadata": {},
   "source": [
    "### Broadcasting"
   ]
  },
  {
   "cell_type": "code",
   "execution_count": 13,
   "id": "67575eab-1ad2-4f0b-8745-1935d40da80f",
   "metadata": {},
   "outputs": [
    {
     "name": "stdout",
     "output_type": "stream",
     "text": [
      "[[ 2  4  6]\n",
      " [ 8 10 12]]\n"
     ]
    }
   ],
   "source": [
    "arr = np.array([[1, 2, 3], [4, 5, 6]])\n",
    "scalar = 2\n",
    "print(arr * scalar)  # Multiply each element of the array by the scalar"
   ]
  },
  {
   "cell_type": "markdown",
   "id": "265e6c14-2566-45b3-87c4-29d3786b4147",
   "metadata": {},
   "source": [
    "## 5. Indexing and Slicing\n",
    "NumPy arrays support powerful indexing and slicing operations:"
   ]
  },
  {
   "cell_type": "code",
   "execution_count": 15,
   "id": "4d0b0037-cf65-498a-afa8-7f68142a7f0f",
   "metadata": {},
   "outputs": [
    {
     "name": "stdout",
     "output_type": "stream",
     "text": [
      "[[1 2 3]\n",
      " [4 5 6]]\n",
      "\n",
      "[1 2 3]\n",
      "\n",
      "5\n",
      "\n",
      "[[2 3]\n",
      " [5 6]]\n"
     ]
    }
   ],
   "source": [
    "arr = np.array([[1, 2, 3], [4, 5, 6]])\n",
    "print(arr)\n",
    "print()\n",
    "print(arr[0])      # [1 2 3]\n",
    "print()\n",
    "print(arr[1, 1])   # 5\n",
    "print()\n",
    "print(arr[:, 1:])  # Slice all rows, from the second column onwards"
   ]
  },
  {
   "cell_type": "markdown",
   "id": "a9c890ad-ba95-452d-82d1-1b8e45b70c3b",
   "metadata": {},
   "source": [
    "## 6. Array Manipulation\n",
    "NumPy provides functions to manipulate arrays:"
   ]
  },
  {
   "cell_type": "markdown",
   "id": "9db36d01-e354-4adc-b1e7-235ea2efcc82",
   "metadata": {},
   "source": [
    "### Reshaping Arrays"
   ]
  },
  {
   "cell_type": "code",
   "execution_count": 16,
   "id": "ff5f4893-c332-410b-9fd2-ec499203588c",
   "metadata": {},
   "outputs": [
    {
     "name": "stdout",
     "output_type": "stream",
     "text": [
      "[[1 2 3]\n",
      " [4 5 6]\n",
      " [7 8 9]]\n"
     ]
    }
   ],
   "source": [
    "arr = np.arange(1, 10)\n",
    "\n",
    "reshaped_arr = arr.reshape(3, 3)\n",
    "\n",
    "print(reshaped_arr)"
   ]
  },
  {
   "cell_type": "code",
   "execution_count": 17,
   "id": "55b967c2-5c45-4a53-b097-09c56fcbd204",
   "metadata": {},
   "outputs": [
    {
     "name": "stdout",
     "output_type": "stream",
     "text": [
      "[[1 2 3 4 5 6 7 8 9]]\n"
     ]
    }
   ],
   "source": [
    "arr = np.arange(1, 10)\n",
    "\n",
    "reshaped_arr = arr.reshape(1, 9)\n",
    "\n",
    "print(reshaped_arr)"
   ]
  },
  {
   "cell_type": "code",
   "execution_count": 18,
   "id": "8505bddd-defa-4318-9a15-fb163c4e1ca7",
   "metadata": {},
   "outputs": [
    {
     "name": "stdout",
     "output_type": "stream",
     "text": [
      "[[1]\n",
      " [2]\n",
      " [3]\n",
      " [4]\n",
      " [5]\n",
      " [6]\n",
      " [7]\n",
      " [8]\n",
      " [9]]\n"
     ]
    }
   ],
   "source": [
    "arr = np.arange(1, 10)\n",
    "\n",
    "reshaped_arr = arr.reshape(9, 1)\n",
    "\n",
    "print(reshaped_arr)"
   ]
  },
  {
   "cell_type": "markdown",
   "id": "c6971045-ddea-4ea6-a1c8-ef7e2c40f04a",
   "metadata": {},
   "source": [
    "### Transposing Arrays"
   ]
  },
  {
   "cell_type": "code",
   "execution_count": 20,
   "id": "780ade05-60dd-4338-9378-e22b8d1cd139",
   "metadata": {},
   "outputs": [
    {
     "name": "stdout",
     "output_type": "stream",
     "text": [
      "[[1 2 3]\n",
      " [4 5 6]]\n",
      "\n",
      "[[1 4]\n",
      " [2 5]\n",
      " [3 6]]\n"
     ]
    }
   ],
   "source": [
    "arr = np.array([[1, 2, 3], [4, 5, 6]])\n",
    "print(arr)\n",
    "\n",
    "print()\n",
    "\n",
    "transposed_arr = arr.T\n",
    "print(transposed_arr)\n",
    "\n"
   ]
  },
  {
   "cell_type": "markdown",
   "id": "faa02c11-2e82-40af-893a-8e45b08939c1",
   "metadata": {},
   "source": [
    "## 7. Mathematical Functions\n",
    "NumPy offers a wide range of mathematical functions:"
   ]
  },
  {
   "cell_type": "code",
   "execution_count": 21,
   "id": "1763cdbe-0cdd-423d-ad4d-76464e60ab9a",
   "metadata": {},
   "outputs": [
    {
     "name": "stdout",
     "output_type": "stream",
     "text": [
      "0\n",
      "90\n",
      "[ 0.         -0.98803162  0.85090352 -0.30481062  0.89399666]\n",
      "[ 1.          0.15425145  0.52532199 -0.95241298 -0.44807362]\n",
      "[ 0.         -6.4053312   1.61977519  0.32004039 -1.99520041]\n",
      "45.0\n",
      "30.0\n"
     ]
    }
   ],
   "source": [
    "arr = np.array([0, 30, 45, 60, 90])\n",
    "\n",
    "print(np.min(arr)) \n",
    "\n",
    "print(np.max(arr))\n",
    "\n",
    "print(np.sin(arr))\n",
    "\n",
    "print(np.cos(arr))\n",
    "\n",
    "print(np.tan(arr))\n",
    "\n",
    "print(np.mean(arr))\n",
    "\n",
    "print(np.std(arr))"
   ]
  },
  {
   "cell_type": "code",
   "execution_count": null,
   "id": "b0279246-d37a-4bdd-9b37-a544758a76f3",
   "metadata": {},
   "outputs": [],
   "source": []
  }
 ],
 "metadata": {
  "kernelspec": {
   "display_name": "Python 3 (ipykernel)",
   "language": "python",
   "name": "python3"
  },
  "language_info": {
   "codemirror_mode": {
    "name": "ipython",
    "version": 3
   },
   "file_extension": ".py",
   "mimetype": "text/x-python",
   "name": "python",
   "nbconvert_exporter": "python",
   "pygments_lexer": "ipython3",
   "version": "3.9.18"
  }
 },
 "nbformat": 4,
 "nbformat_minor": 5
}
