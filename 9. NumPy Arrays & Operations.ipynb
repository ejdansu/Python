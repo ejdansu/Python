{
 "cells": [
  {
   "cell_type": "markdown",
   "id": "8a27cb73-a6a1-4921-9212-9fffb6d2faf3",
   "metadata": {},
   "source": [
    "# 9. NumPy Arrays & Operations\n",
    "NumPy arrays provide efficient storage and manipulation of data compared to Python lists."
   ]
  },
  {
   "cell_type": "markdown",
   "id": "70b8f02d-d07b-4de6-8ce0-0778dd6c52a9",
   "metadata": {},
   "source": [
    "## 9.1 Creating NumPy Arrays"
   ]
  },
  {
   "cell_type": "code",
   "execution_count": null,
   "id": "746d1055-2f4d-4b3f-a4b7-de3dd9602a83",
   "metadata": {},
   "outputs": [],
   "source": [
    "import numpy as np\n",
    "\n",
    "# Creating a 1D array\n",
    "arr1d = np.array([1, 2, 3, 4, 5])\n",
    "print(arr1d)"
   ]
  },
  {
   "cell_type": "code",
   "execution_count": null,
   "id": "68e29bce-e03b-4a1a-929a-d88880cfca30",
   "metadata": {},
   "outputs": [],
   "source": [
    "# Creating a 2D array\n",
    "arr2d = np.array([[1, 2, 3], [4, 5, 6]])\n",
    "print(arr2d)"
   ]
  },
  {
   "cell_type": "code",
   "execution_count": null,
   "id": "a3b6b446-02aa-44f9-bbf2-93f6d0b85f73",
   "metadata": {},
   "outputs": [],
   "source": [
    "# Creating an array filled with zeros\n",
    "zero_arr = np.zeros((3, 3))\n",
    "print(zero_arr)"
   ]
  },
  {
   "cell_type": "code",
   "execution_count": null,
   "id": "972ffdd5-3eb1-4673-822f-f7670eb94b8a",
   "metadata": {},
   "outputs": [],
   "source": [
    "# Creating an array filled with ones\n",
    "ones_arr = np.ones((2, 4))\n",
    "print(ones_arr)"
   ]
  },
  {
   "cell_type": "code",
   "execution_count": null,
   "id": "24d333fb-5933-482d-9d3d-6cd8150fae2f",
   "metadata": {},
   "outputs": [],
   "source": [
    "# Creating an array with a range of values\n",
    "range_arr = np.arange(0, 10, 2)  # from 0 to 10 (exclusive) with step 2\n",
    "print(range_arr)"
   ]
  },
  {
   "cell_type": "markdown",
   "id": "d8be4ffc-0909-4536-a0dc-e8a4998970fe",
   "metadata": {},
   "source": [
    "## 9.2 Array Operations\n",
    "### Element-wise Operations"
   ]
  },
  {
   "cell_type": "code",
   "execution_count": null,
   "id": "6b55948a-7a38-4338-a88d-bbdaf410f7b5",
   "metadata": {},
   "outputs": [],
   "source": [
    "# Addition\n",
    "result_add = arr1d + arr1d\n",
    "print(result_add)\n",
    "\n",
    "# Subtraction\n",
    "result_sub = arr1d - arr1d\n",
    "print(result_sub)\n",
    "\n",
    "# Multiplication\n",
    "result_mul = arr1d * arr1d\n",
    "print(result_mul)\n",
    "\n",
    "# Division\n",
    "result_div = arr1d / arr1d\n",
    "print(result_div)"
   ]
  },
  {
   "cell_type": "markdown",
   "id": "efd4e75a-f086-44c6-bfa7-88f9ad32354a",
   "metadata": {},
   "source": [
    "### Aggregation Functions"
   ]
  },
  {
   "cell_type": "code",
   "execution_count": null,
   "id": "48f54c82-1e95-4e77-8d2d-c9fc5f71556d",
   "metadata": {},
   "outputs": [],
   "source": [
    "# Sum of all elements\n",
    "arr_sum = np.sum(arr1d)\n",
    "print(arr_sum)\n",
    "\n",
    "# Mean of all elements\n",
    "arr_mean = np.mean(arr1d)\n",
    "print(arr_mean)\n",
    "\n",
    "# Maximum value\n",
    "arr_max = np.max(arr1d)\n",
    "print(arr_max)\n",
    "\n",
    "# Minimum value\n",
    "arr_min = np.min(arr1d)\n",
    "print(arr_min)"
   ]
  },
  {
   "cell_type": "markdown",
   "id": "0a7f7237-6b1a-4df9-b4ee-5b032896b7bb",
   "metadata": {},
   "source": [
    "### Indexing and Slicing"
   ]
  },
  {
   "cell_type": "code",
   "execution_count": null,
   "id": "0aa39b50-e8d8-4842-88e5-6313af0d71ed",
   "metadata": {},
   "outputs": [],
   "source": [
    "# Accessing elements\n",
    "element = arr1d[2]  # Accessing 3rd element (index starts from 0)\n",
    "print(element)"
   ]
  },
  {
   "cell_type": "code",
   "execution_count": null,
   "id": "8424073c-805b-43d2-9440-16f4ae853896",
   "metadata": {},
   "outputs": [],
   "source": [
    "# Slicing\n",
    "slice_arr = arr1d[1:4]  # Slicing elements from index 1 to 3 (exclusive)\n",
    "print(slice_arr)"
   ]
  },
  {
   "cell_type": "markdown",
   "id": "3b310d3e-d3f1-4e60-b8d4-b7b6afa689f0",
   "metadata": {},
   "source": [
    "### Reshaping Arrays"
   ]
  },
  {
   "cell_type": "code",
   "execution_count": null,
   "id": "bad8a524-f3c7-4408-bb6d-c5b5e0ce892a",
   "metadata": {},
   "outputs": [],
   "source": [
    "# Reshape a 1D array to a 2D array\n",
    "reshaped_arr = arr1d.reshape(5, 1)  # Reshaping to a 5x1 matrix\n",
    "print(reshaped_arr)"
   ]
  },
  {
   "cell_type": "markdown",
   "id": "f4a76282-3490-4067-b91b-1a8b1da870da",
   "metadata": {},
   "source": [
    "### Broadcasting"
   ]
  },
  {
   "cell_type": "code",
   "execution_count": null,
   "id": "6f579d73-3af2-484b-aa50-7a4d9b7efe1e",
   "metadata": {},
   "outputs": [],
   "source": [
    "# Broadcasting scalar to array\n",
    "scalar_broadcast = arr1d + 1  # Add 1 to each element\n",
    "print(scalar_broadcast)"
   ]
  },
  {
   "cell_type": "markdown",
   "id": "2885c9ba-5d8f-4365-87c5-224a0da8bfe6",
   "metadata": {},
   "source": [
    "### Boolean Indexing"
   ]
  },
  {
   "cell_type": "code",
   "execution_count": null,
   "id": "0a58e57a-0d41-4824-a4d9-72f706e9bc2b",
   "metadata": {},
   "outputs": [],
   "source": [
    "# Boolean indexing\n",
    "bool_index = arr1d[arr1d >= 3]  # Select elements greater than 3\n",
    "print(bool_index)"
   ]
  },
  {
   "cell_type": "markdown",
   "id": "e1c15aa5-66c6-471e-a9c7-e33fffe131af",
   "metadata": {},
   "source": [
    "## 9.3 Advanced Operations"
   ]
  },
  {
   "cell_type": "markdown",
   "id": "c3cb2832-9f0e-41cd-9dbc-b1322060e754",
   "metadata": {},
   "source": [
    "### Matrix Multiplication"
   ]
  },
  {
   "cell_type": "code",
   "execution_count": null,
   "id": "632b3520-ba8f-4f42-a63a-534af656214b",
   "metadata": {},
   "outputs": [],
   "source": [
    "# Matrix multiplication\n",
    "mat1 = np.array([[1, 2], [3, 4]])\n",
    "print(mat1)\n",
    "\n",
    "print()\n",
    "mat2 = np.array([[5, 6], [7, 8]])\n",
    "print(mat2)\n",
    "\n",
    "print()\n",
    "\n",
    "mat_mul = np.dot(mat1, mat2)  # Dot product of two matrices\n",
    "print(mat_mul)"
   ]
  },
  {
   "cell_type": "markdown",
   "id": "71dd8c29-b133-4998-9222-b97f1c003917",
   "metadata": {},
   "source": [
    "### Transpose"
   ]
  },
  {
   "cell_type": "code",
   "execution_count": null,
   "id": "63d26dbd-af54-4688-8f44-0e1ebad3d0bf",
   "metadata": {},
   "outputs": [],
   "source": [
    "# Transpose of a matrix\n",
    "mat_transpose = np.transpose(mat1)\n",
    "print(mat_transpose)"
   ]
  },
  {
   "cell_type": "markdown",
   "id": "2186460e-001c-4c7e-bfc2-d751e68c4dfe",
   "metadata": {},
   "source": [
    "### Concatenation"
   ]
  },
  {
   "cell_type": "code",
   "execution_count": null,
   "id": "213ddf12-ddd2-46d7-9aad-42ecaf294782",
   "metadata": {},
   "outputs": [],
   "source": [
    "# Concatenating arrays\n",
    "concatenated_arr = np.concatenate((arr1d, arr1d))  # Concatenating two 1D arrays\n",
    "print(concatenated_arr)"
   ]
  },
  {
   "cell_type": "markdown",
   "id": "824a17d6-2f87-4684-bbe3-cf89ca325897",
   "metadata": {},
   "source": [
    "### Stacking"
   ]
  },
  {
   "cell_type": "code",
   "execution_count": null,
   "id": "6bf5e4f2-42ce-46fe-b4fc-02df21456608",
   "metadata": {},
   "outputs": [],
   "source": [
    "# Stacking arrays vertically\n",
    "stacked_arr = np.vstack((arr1d, arr1d, arr1d))  # Stack arrays vertically\n",
    "print(stacked_arr)\n",
    "\n",
    "print()\n",
    "\n",
    "# Stacking arrays horizontally\n",
    "hstacked_arr = np.hstack((arr1d, arr1d, arr1d))  # Stack arrays horizontally\n",
    "print(hstacked_arr)"
   ]
  },
  {
   "cell_type": "markdown",
   "id": "7fb19369-ddba-4667-aa23-5cac7009e6a0",
   "metadata": {},
   "source": [
    "### Universal Functions (ufuncs):"
   ]
  },
  {
   "cell_type": "code",
   "execution_count": null,
   "id": "9adc257d-5023-40d1-b8c3-13ba3e07ae21",
   "metadata": {},
   "outputs": [],
   "source": [
    "# Element-wise trigonometric functions\n",
    "sin_arr = np.sin(arr1d)\n",
    "print(sin_arr)\n",
    "\n",
    "print()\n",
    "\n",
    "cos_arr = np.cos(arr1d)\n",
    "\n",
    "print()\n",
    "\n",
    "print(cos_arr)\n",
    "\n",
    "print()\n",
    "\n",
    "# Element-wise exponential function\n",
    "exp_arr = np.exp(arr1d)\n",
    "print(exp_arr)\n",
    "\n",
    "print()\n",
    "\n",
    "# Element-wise square root\n",
    "sqrt_arr = np.sqrt(arr1d)\n",
    "print(sqrt_arr)"
   ]
  },
  {
   "cell_type": "markdown",
   "id": "14524d18-dc8f-4a15-b0d4-25f906f76580",
   "metadata": {},
   "source": [
    "### Statistical Functions"
   ]
  },
  {
   "cell_type": "code",
   "execution_count": null,
   "id": "2db208f2-2c20-4199-b9ed-6f0e45990661",
   "metadata": {},
   "outputs": [],
   "source": [
    "# Standard deviation\n",
    "arr_std = np.std(arr1d)\n",
    "print(arr_std)\n",
    "\n",
    "print()\n",
    "\n",
    "# Variance\n",
    "arr_var = np.var(arr1d)\n",
    "print(arr_var)\n",
    "\n",
    "print()\n",
    "\n",
    "# Percentile\n",
    "arr_percentile = np.percentile(arr1d, 50)  # 50th percentile\n",
    "print(arr_percentile)"
   ]
  },
  {
   "cell_type": "markdown",
   "id": "9df02a28-40e9-4396-8629-7e875337e907",
   "metadata": {},
   "source": [
    "### Random Number Generation"
   ]
  },
  {
   "cell_type": "code",
   "execution_count": null,
   "id": "263a5984-4148-4561-a652-f454f8d31120",
   "metadata": {},
   "outputs": [],
   "source": [
    "# Generate random numbers\n",
    "random_arr = np.random.rand(3, 3)  # 3x3 array of random numbers between 0 and 1\n",
    "print(random_arr)"
   ]
  },
  {
   "cell_type": "code",
   "execution_count": null,
   "id": "f592d8ed-5a08-47dc-b079-f1ab7ba52cb5",
   "metadata": {},
   "outputs": [],
   "source": [
    "import numpy as np\n",
    "\n",
    "# Generate random integers between 0 and 10\n",
    "random_int_arr = np.random.randint(0, 10, size=(3, 3))\n",
    "\n",
    "print(random_int_arr)"
   ]
  },
  {
   "cell_type": "code",
   "execution_count": null,
   "id": "1418dff3-9666-4336-bca2-10c1817379fd",
   "metadata": {},
   "outputs": [],
   "source": [
    "import numpy as np\n",
    "\n",
    "# Generate a range of numbers from 0 to 8\n",
    "numbers = np.arange(9)\n",
    "\n",
    "# Shuffle the numbers\n",
    "shuffled_numbers = np.random.permutation(numbers)\n",
    "\n",
    "# Reshape the shuffled numbers into a 3x3 array\n",
    "random_int_arr = shuffled_numbers.reshape((3, 3))\n",
    "\n",
    "print(random_int_arr)"
   ]
  },
  {
   "cell_type": "code",
   "execution_count": null,
   "id": "129ec4a9-4c20-48c3-814e-114536d342c8",
   "metadata": {},
   "outputs": [],
   "source": [
    "import numpy as np\n",
    "\n",
    "# Generate a range of numbers from 0 to 8\n",
    "numbers = np.arange(1,19)\n",
    "\n",
    "# Shuffle the numbers\n",
    "shuffled_numbers = np.random.permutation(numbers)\n",
    "\n",
    "# Reshape the shuffled numbers into a 3x3 array\n",
    "random_int_arr = shuffled_numbers.reshape((6, 3))\n",
    "\n",
    "print(random_int_arr)"
   ]
  },
  {
   "cell_type": "markdown",
   "id": "eb5e19ac-bc60-4a63-b069-e7775da626ef",
   "metadata": {},
   "source": [
    "### Linear Algebra Operations"
   ]
  },
  {
   "cell_type": "code",
   "execution_count": null,
   "id": "2ec1b49d-533f-450e-b6f6-25e115ab485f",
   "metadata": {},
   "outputs": [],
   "source": [
    "# Determinant of a matrix\n",
    "mat_det = np.linalg.det(mat1)\n",
    "print(mat_det)\n",
    "\n",
    "print()\n",
    "\n",
    "# Inverse of a matrix\n",
    "mat_inv = np.linalg.inv(mat1)\n",
    "print(mat_inv)\n",
    "\n",
    "print()\n",
    "\n",
    "# Eigenvalues and eigenvectors\n",
    "eigenvalues, eigenvectors = np.linalg.eig(mat1)\n",
    "print(\"Eigenvalues:\")\n",
    "print(eigenvalues)\n",
    "\n",
    "print()\n",
    "\n",
    "print(\"\\nEigenvectors:\")\n",
    "print(eigenvectors)"
   ]
  },
  {
   "cell_type": "code",
   "execution_count": null,
   "id": "db36cdec-b774-4885-8f83-e37721142645",
   "metadata": {},
   "outputs": [],
   "source": []
  }
 ],
 "metadata": {
  "kernelspec": {
   "display_name": "Python 3 (ipykernel)",
   "language": "python",
   "name": "python3"
  },
  "language_info": {
   "codemirror_mode": {
    "name": "ipython",
    "version": 3
   },
   "file_extension": ".py",
   "mimetype": "text/x-python",
   "name": "python",
   "nbconvert_exporter": "python",
   "pygments_lexer": "ipython3",
   "version": "3.9.18"
  }
 },
 "nbformat": 4,
 "nbformat_minor": 5
}
