{
  "cells": [
    {
      "cell_type": "markdown",
      "metadata": {
        "id": "view-in-github",
        "colab_type": "text"
      },
      "source": [
        "<a href=\"https://colab.research.google.com/github/ejdansu/Python/blob/main/1_Python_Programming_Essentials.ipynb\" target=\"_parent\"><img src=\"https://colab.research.google.com/assets/colab-badge.svg\" alt=\"Open In Colab\"/></a>"
      ]
    },
    {
      "cell_type": "code",
      "execution_count": null,
      "id": "7374aff5",
      "metadata": {
        "scrolled": true,
        "id": "7374aff5"
      },
      "outputs": [],
      "source": [
        "from IPython.display import display, Image, HTML, Math\n",
        "Image(url='https://www.python.org/static/community_logos/python-logo-master-v3-TM.png')"
      ]
    },
    {
      "cell_type": "markdown",
      "id": "6938535f",
      "metadata": {
        "id": "6938535f"
      },
      "source": [
        "My name is EJD. Your name is IOA."
      ]
    },
    {
      "cell_type": "code",
      "execution_count": null,
      "id": "afcea432",
      "metadata": {
        "id": "afcea432"
      },
      "outputs": [],
      "source": [
        "x=5\n",
        "print(x)"
      ]
    },
    {
      "cell_type": "code",
      "execution_count": null,
      "id": "5eb18d09",
      "metadata": {
        "id": "5eb18d09"
      },
      "outputs": [],
      "source": [
        "x=5\n",
        "y=3\n",
        "z=x+y\n",
        "print(z)"
      ]
    },
    {
      "cell_type": "markdown",
      "id": "54f2756a",
      "metadata": {
        "id": "54f2756a"
      },
      "source": [
        "This is $x=5$."
      ]
    },
    {
      "cell_type": "markdown",
      "id": "3c4b255d",
      "metadata": {
        "id": "3c4b255d"
      },
      "source": [
        "# Python Class List\n",
        "## Python Class List\n",
        "### Python Class List\n",
        "* Momma Sharon\n",
        "* Uncle Sunday\n",
        "* Aunty Maosi\n",
        "* Uncle Emmanuel\n",
        "* Uncle David"
      ]
    },
    {
      "cell_type": "markdown",
      "id": "5fe9dfd2",
      "metadata": {
        "id": "5fe9dfd2"
      },
      "source": [
        "# 1. Python Programming Essentials\n",
        "\n",
        "## 1.1 Introduction to Python\n",
        "Python is a **high-level programming language that is widely used in a variety of fields, including data science, web development, and scientific computing**. It was **first released in 1991 by Guido van Rossum** and has since become one of the most popular programming languages in the world.\n",
        "\n",
        "* **One of the key features of Python is its readability and ease of use**. The syntax is simple and straightforward, making it easy for beginners to learn and understand. It also has a large standard library, which includes a wide range of built-in functions and modules that can be used to perform a variety of tasks, from working with data and files to networking and web development.\n",
        "\n",
        "* Python is also highly versatile, with a wide range of applications in different fields. **In data science, it is used extensively for tasks such as data cleaning, data analysis, and machine learning**. In web development, it is used for building web applications and APIs. It is also used in scientific computing and simulation, and is a popular choice for scripting and automation tasks.\n",
        "\n",
        "* **Another key feature of Python is its strong community support**. There are a large number of third-party packages and libraries available, which can be used to extend the functionality of Python and make it even more powerful. Additionally, there are many online resources, tutorials, and forums available for learning and troubleshooting Python.\n",
        "\n",
        "Overall, Python is a powerful and versatile programming language that is widely used in a variety of fields. Its simplicity, readability, and strong community support make it an ideal choice for beginners and experienced programmers alike.\n",
        "\n"
      ]
    },
    {
      "cell_type": "markdown",
      "id": "74422f90",
      "metadata": {
        "id": "74422f90"
      },
      "source": [
        "## 1.2 Python Programming Modes\n",
        "There are **two primary modes of programming in Python**: **interactive mode and script mode**.\n",
        "\n",
        "* **Interactive mode** refers to **working with the Python interpreter directly, typing code into the command line and getting immediate feedback**. This is a great way to experiment with code and try out new ideas, as you can quickly see the results of your code as you type it. Interactive mode is also useful for testing and debugging code, as you can easily experiment with different inputs and see how the code responds.\n",
        "\n",
        "* **Script mode** refers to **writing code in a separate file (typically with a .py extension) and then executing that file using the Python interpreter**. This is useful for more complex programs that require multiple lines of code or that need to be run multiple times with different inputs. Script mode allows you to write and test your code in a separate environment, and then execute it as needed.\n",
        "\n",
        "When running a script, you can do so in a number of ways. One option is to **run the script from the command line using the python command followed by the name of the script file**. For example, if your script is called \"my_script.py\", you would run it using the command \"python my_script.py\". Another option is to **use an integrated development environment (IDE) like PyCharm, IDLE, Visual Studio Code or Spyder, which allows you to write, test, and run your code all in one environment**.\n",
        "\n",
        "**Both interactive mode and script mode have their advantages and disadvantages**, and which one you use will depend on your specific needs and preferences. **Interactive mode is great for quickly testing code and getting immediate feedback**, while **script mode is better suited for more complex programs that need to be run multiple times or that require multiple lines of code**."
      ]
    },
    {
      "cell_type": "markdown",
      "id": "ad6e93d6",
      "metadata": {
        "id": "ad6e93d6"
      },
      "source": [
        "## 1.3 Jupyter Notebook\n",
        "Jupyter Notebook is an open-source web application that allows users to create and share documents containing live code, equations, visualizations, and narrative text. It was initially developed for Python programming language but now supports over 40 different programming languages, including R, Julia, and MATLAB.\n",
        "\n",
        "* Jupyter Notebook is based on the IPython interactive computing environment, which provides an interactive shell, an object inspector, and a rich history mechanism. The name \"Jupyter\" is a combination of the three core programming languages supported by the notebook: Julia, Python, and R.\n",
        "\n",
        "* In a Jupyter Notebook, users can create cells that can contain code, markdown text, or raw text. Code cells allow users to write and execute code, while markdown cells allow users to write formatted text with headings, lists, images, and hyperlinks. Raw cells are used for writing content that should be included as is, without any formatting or execution.\n",
        "\n",
        "* One of the main benefits of Jupyter Notebook is that it provides an interactive and exploratory way of working with data. Users can import data from various sources, including CSV, Excel, and SQL databases, and use Python libraries such as Pandas and NumPy to analyze and visualize the data. They can also create interactive plots using libraries such as Matplotlib, Seaborn, Bokeh, and Plotly.\n",
        "\n",
        "* Another benefit of Jupyter Notebook is that it allows users to document their work and share it with others. Notebooks can be saved as HTML or PDF files, or shared on GitHub or other code-sharing platforms. They can also be hosted on the web using services such as Binder and JupyterHub, which allow users to run the notebook in a web browser without any local installation.\n",
        "\n",
        "Overall, Jupyter Notebook is a powerful tool for data analysis, scientific computing, and education. Its interactive and exploratory nature makes it an ideal platform for prototyping and experimentation, while its documentation and sharing capabilities make it a valuable resource for collaboration and knowledge sharing."
      ]
    },
    {
      "cell_type": "markdown",
      "id": "94c6dd50",
      "metadata": {
        "id": "94c6dd50"
      },
      "source": [
        "Here are the steps to install Jupyter Notebook from Anaconda 3:\n",
        "\n",
        "* **Download Anaconda 3**: Go to the Anaconda website (https://www.anaconda.com/products/individual), and download the appropriate version of Anaconda 3 for your operating system.\n",
        "\n",
        "* **Install Anaconda 3**: Follow the installation instructions for your operating system to install Anaconda 3 on your computer.\n",
        "\n",
        "* **Launch Jupyter Notebook**: Once Anaconda 3 is installed, launch the Anaconda Navigator application. From there, click on the Jupyter Notebook icon to launch the Jupyter Notebook application in your default web browser.\n",
        "\n",
        "* **Create a new Notebook**: In the Jupyter Notebook application, click on the \"New\" button in the top right corner, and select \"Python 3\" (or any other desired programming language) to create a new Notebook.\n",
        "\n",
        "* **Write and execute code**: In the Notebook, you can write and execute Python code in individual cells. To execute a cell, click on it, and press the \"Run\" button or press \"Shift\" + \"Enter\".\n",
        "\n",
        "That's it! You can now use Jupyter Notebook to write and execute Python code, create visualizations, and document your work."
      ]
    },
    {
      "cell_type": "markdown",
      "id": "10f0c051",
      "metadata": {
        "id": "10f0c051"
      },
      "source": [
        "# 1.4 Google Colab\n",
        "\n",
        "* Google Colab is a cloud-based platform provided by Google for running Jupyter notebooks. It allows users to write and execute Python code in a web browser, eliminating the need for local installations and configurations.\n",
        "\n",
        "* Colab provides a free GPU and TPU (Tensor Processing Unit) runtime environment, enabling users to take advantage of accelerated hardware for machine learning tasks. It also integrates with Google Drive, allowing easy access to files and collaboration features.\n",
        "\n",
        "* To use Colab, you can navigate to https://colab.research.google.com and sign in with your Google account. Once you're logged in, you can create a new notebook or open an existing one. The Colab interface is similar to Jupyter Notebook, with code cells, text cells, and various toolbar options.\n",
        "\n",
        "* Colab provides a runtime environment where you can write and execute Python code. It also supports Markdown cells for adding formatted text, images, and links to your notebook. You can install additional libraries, access files from your Google Drive, and even leverage GPUs and TPUs for computation by changing the runtime type.\n",
        "\n",
        "* To execute code in a Colab notebook, you can click on a code cell and press the \"Play\" button, or use the keyboard shortcut Shift+Enter. The code will be executed, and the output, along with any errors or print statements, will be displayed below the cell.\n",
        "\n",
        "* Colab notebooks can be saved to your Google Drive or downloaded as IPython (.ipynb) files. You can also share your notebooks with others for collaboration or publishing purposes.\n",
        "\n",
        "* Overall, Google Colab is a convenient and powerful platform for working with Jupyter notebooks in the cloud, especially for machine learning and data analysis tasks."
      ]
    },
    {
      "cell_type": "markdown",
      "id": "0375e63e",
      "metadata": {
        "id": "0375e63e"
      },
      "source": [
        "# 1.5 Working with Markdown"
      ]
    },
    {
      "cell_type": "markdown",
      "id": "d616c700",
      "metadata": {
        "id": "d616c700"
      },
      "source": [
        "## 1.5.1 Equations\n",
        "The quadratic equation is given as $ax^2+bx+c=0$ with the solution $x=\\dfrac{-b\\pm\\sqrt{b^2-4ac}}{2a}$."
      ]
    },
    {
      "cell_type": "markdown",
      "id": "44a258a9",
      "metadata": {
        "id": "44a258a9"
      },
      "source": [
        "The quadratic equation is given as $$ax^2+bx+c=0$$ with the solution $$x=\\dfrac{-b\\pm\\sqrt{b^2-4ac}}{2a}.$$"
      ]
    },
    {
      "cell_type": "markdown",
      "id": "d9889aba",
      "metadata": {
        "id": "d9889aba"
      },
      "source": [
        "## 1.5.2 Code"
      ]
    },
    {
      "cell_type": "code",
      "execution_count": null,
      "id": "faa78b22",
      "metadata": {
        "id": "faa78b22"
      },
      "outputs": [],
      "source": [
        "import math\n",
        "\n",
        "# Take input from user\n",
        "a = float(input(\"Enter the coefficient of x^2: \"))\n",
        "b = float(input(\"Enter the coefficient of x: \"))\n",
        "c = float(input(\"Enter the constant term: \"))\n",
        "\n",
        "# Calculate the discriminant\n",
        "discriminant = b**2 - 4*a*c\n",
        "\n",
        "# Check the nature of the roots\n",
        "if discriminant > 0:\n",
        "    # Two real and distinct roots\n",
        "    root1 = (-b + math.sqrt(discriminant)) / (2*a)\n",
        "    root2 = (-b - math.sqrt(discriminant)) / (2*a)\n",
        "    print(\"The roots are real and distinct.\")\n",
        "    print(\"Root 1: \", root1)\n",
        "    print(\"Root 2: \", root2)\n",
        "elif discriminant == 0:\n",
        "    # Two real and equal roots\n",
        "    root = -b / (2*a)\n",
        "    print(\"The roots are real and equal.\")\n",
        "    print(\"Root: \", root)\n",
        "else:\n",
        "    # Complex conjugate roots\n",
        "    real_part = -b / (2*a)\n",
        "    imaginary_part = math.sqrt(abs(discriminant)) / (2*a)\n",
        "    print(\"The roots are complex conjugate.\")\n",
        "    print(\"Root 1: \", real_part, \"+\", imaginary_part, \"i\")\n",
        "    print(\"Root 2: \", real_part, \"-\", imaginary_part, \"i\")\n",
        "\n",
        "  #  3x^2+5x+6=0"
      ]
    },
    {
      "cell_type": "markdown",
      "id": "bab02179",
      "metadata": {
        "id": "bab02179"
      },
      "source": [
        "## 1.5.3 Plots"
      ]
    },
    {
      "cell_type": "code",
      "execution_count": null,
      "id": "776c1599",
      "metadata": {
        "id": "776c1599"
      },
      "outputs": [],
      "source": [
        "import math\n",
        "import numpy as np\n",
        "import matplotlib.pyplot as plt\n",
        "\n",
        "# Take input from user\n",
        "a = float(input(\"Enter the coefficient of x^2: \"))\n",
        "b = float(input(\"Enter the coefficient of x: \"))\n",
        "c = float(input(\"Enter the constant term: \"))\n",
        "\n",
        "# Calculate the discriminant\n",
        "discriminant = b**2 - 4*a*c\n",
        "\n",
        "# Define a range of x values for the plot\n",
        "x_values = np.linspace(-10, 10, 400)  # You can adjust the range as needed\n",
        "\n",
        "# Calculate the quadratic function\n",
        "y_values = a * x_values**2 + b * x_values + c\n",
        "\n",
        "# Create the plot\n",
        "plt.figure(figsize=(10, 6))\n",
        "\n",
        "plt.plot(x_values, y_values, label=f\"{a}x^2 + {b}x + {c}\")\n",
        "\n",
        "# Highlight the roots on the plot\n",
        "if discriminant > 0:\n",
        "    root1 = (-b + math.sqrt(discriminant)) / (2*a)\n",
        "    root2 = (-b - math.sqrt(discriminant)) / (2*a)\n",
        "    plt.scatter([root1, root2], [0, 0], color='green', label='Real and Distinct Roots')\n",
        "elif discriminant == 0:\n",
        "    root = -b / (2*a)\n",
        "    plt.scatter(root, 0, color='blue', label='Real and Equal Roots')\n",
        "else:\n",
        "    real_part = -b / (2*a)\n",
        "    imaginary_part = math.sqrt(abs(discriminant)) / (2*a)\n",
        "    plt.scatter(real_part, imaginary_part, color='red', label='Complex Conjugate Roots')\n",
        "    plt.scatter(real_part, -imaginary_part, color='red')\n",
        "\n",
        "plt.axhline(0, color='black', linewidth=0.8)\n",
        "plt.axvline(0, color='black', linewidth=0.8)\n",
        "\n",
        "plt.title(\"Quadratic Equation and Nature of Roots\")\n",
        "plt.xlabel(\"x\")\n",
        "plt.ylabel(\"y\")\n",
        "plt.legend()\n",
        "plt.grid(True)\n",
        "plt.show()"
      ]
    },
    {
      "cell_type": "markdown",
      "id": "ae5b5f03",
      "metadata": {
        "id": "ae5b5f03"
      },
      "source": [
        "## 1.5.4 Texts\n",
        "\n",
        "Refer to the note above."
      ]
    },
    {
      "cell_type": "code",
      "execution_count": null,
      "id": "99862622",
      "metadata": {
        "id": "99862622"
      },
      "outputs": [],
      "source": []
    }
  ],
  "metadata": {
    "kernelspec": {
      "display_name": "Python 3 (ipykernel)",
      "language": "python",
      "name": "python3"
    },
    "language_info": {
      "codemirror_mode": {
        "name": "ipython",
        "version": 3
      },
      "file_extension": ".py",
      "mimetype": "text/x-python",
      "name": "python",
      "nbconvert_exporter": "python",
      "pygments_lexer": "ipython3",
      "version": "3.9.18"
    },
    "colab": {
      "provenance": [],
      "include_colab_link": true
    }
  },
  "nbformat": 4,
  "nbformat_minor": 5
}