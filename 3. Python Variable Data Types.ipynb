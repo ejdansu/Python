{
 "cells": [
  {
   "cell_type": "markdown",
   "id": "ecf280a2-5335-4f7f-b256-3938735b78f1",
   "metadata": {},
   "source": [
    "# Variables\n",
    "* In Python, there are several types of variables that can be used to store different kinds of data.\n",
    "* They can be categorised into\n",
    "  * Variable Data Types\n",
    "  * Variable Data Structures"
   ]
  },
  {
   "cell_type": "markdown",
   "id": "7a247c92-f416-42a9-8e49-e498ee1564ab",
   "metadata": {},
   "source": [
    "## Variable Data Types\n",
    "* There are five common variable data types in Python: **Integers**, **Floating point numbers**, **Complex numbers**, **Booleans**, and **Strings**.\n",
    "* For the purpose of scientific computing, we will exclude **Strings** which deals with handling characters rather than numbers."
   ]
  },
  {
   "cell_type": "markdown",
   "id": "48af09d0-d0e1-421f-9edb-caeecb80bf9d",
   "metadata": {},
   "source": [
    "### Integers\n",
    "Integers are used to store whole numbers without decimal points."
   ]
  },
  {
   "cell_type": "code",
   "execution_count": 1,
   "id": "616d4018-987d-43a9-a6fc-0b5347f59b79",
   "metadata": {},
   "outputs": [
    {
     "data": {
      "text/plain": [
       "int"
      ]
     },
     "execution_count": 1,
     "metadata": {},
     "output_type": "execute_result"
    }
   ],
   "source": [
    "x = 5\n",
    "y = -3\n",
    "\n",
    "#Use type() to check the variable type\n",
    "\n",
    "type(x)"
   ]
  },
  {
   "cell_type": "code",
   "execution_count": 2,
   "id": "b7075725-30f2-4fb6-be9d-d41d19911951",
   "metadata": {},
   "outputs": [
    {
     "data": {
      "text/plain": [
       "int"
      ]
     },
     "execution_count": 2,
     "metadata": {},
     "output_type": "execute_result"
    }
   ],
   "source": [
    "x = 5\n",
    "y = -3\n",
    "\n",
    "#Use type() to check the variable type\n",
    "type(y)"
   ]
  },
  {
   "cell_type": "code",
   "execution_count": 3,
   "id": "6c76f9ad-0a43-4bf9-af74-3a7b33ebb73b",
   "metadata": {},
   "outputs": [
    {
     "data": {
      "text/plain": [
       "int"
      ]
     },
     "execution_count": 3,
     "metadata": {},
     "output_type": "execute_result"
    }
   ],
   "source": [
    "z = 0\n",
    "\n",
    "#Use type() to check the variable type\n",
    "\n",
    "type(z)"
   ]
  },
  {
   "cell_type": "markdown",
   "id": "691afed1-3ba3-4257-aff3-9a200667e3db",
   "metadata": {},
   "source": [
    "### Floating-point numbers\n",
    "Floating-point numbers are used to store decimal numbers."
   ]
  },
  {
   "cell_type": "code",
   "execution_count": 4,
   "id": "1a92f8f9-15bc-4ee4-8d59-2ec926686081",
   "metadata": {},
   "outputs": [
    {
     "data": {
      "text/plain": [
       "float"
      ]
     },
     "execution_count": 4,
     "metadata": {},
     "output_type": "execute_result"
    }
   ],
   "source": [
    "x = 3.14\n",
    "y = -2.5\n",
    "z = 5.0\n",
    "\n",
    "type(x)"
   ]
  },
  {
   "cell_type": "code",
   "execution_count": 5,
   "id": "abf2c807-c716-401e-80e7-b4eff5990953",
   "metadata": {},
   "outputs": [
    {
     "data": {
      "text/plain": [
       "float"
      ]
     },
     "execution_count": 5,
     "metadata": {},
     "output_type": "execute_result"
    }
   ],
   "source": [
    "type(y)"
   ]
  },
  {
   "cell_type": "code",
   "execution_count": 6,
   "id": "5eb2a6f2-20aa-4c56-8e3f-5bd20a465d56",
   "metadata": {},
   "outputs": [
    {
     "data": {
      "text/plain": [
       "float"
      ]
     },
     "execution_count": 6,
     "metadata": {},
     "output_type": "execute_result"
    }
   ],
   "source": [
    "type(z)"
   ]
  },
  {
   "cell_type": "code",
   "execution_count": 7,
   "id": "3b9d4d46-92db-4453-b61e-a027f1823bcc",
   "metadata": {},
   "outputs": [
    {
     "name": "stdout",
     "output_type": "stream",
     "text": [
      "1\n"
     ]
    }
   ],
   "source": [
    "print(3-2)\n",
    "\n",
    "#print(2-3) #It was impossible in primary school"
   ]
  },
  {
   "cell_type": "code",
   "execution_count": 8,
   "id": "a8f09a65-64b9-45b8-b396-ff12fd320ae0",
   "metadata": {},
   "outputs": [
    {
     "name": "stdout",
     "output_type": "stream",
     "text": [
      "-1\n"
     ]
    }
   ],
   "source": [
    "print(2-3)"
   ]
  },
  {
   "cell_type": "markdown",
   "id": "74051a6f-d028-4cf1-a645-f91de050f9d8",
   "metadata": {},
   "source": [
    "In high school, it was impossible to solve $$x^2+4=0$$, $$x^2=-4$$, $$x=\\sqrt{-4}.$$"
   ]
  },
  {
   "cell_type": "markdown",
   "id": "d77e53d3-e83c-4530-8467-e035bf896a5e",
   "metadata": {},
   "source": [
    "### Complex numbers\n",
    "In Python, a **_complex_** is a built-in data type that represents a complex number with a real and imaginary part. Complex numbers are used in mathematical operations involving imaginary quantities and are represented in Python using the $j$ or $J$ suffix to indicate the imaginary part. It should be noted that $$j=J=\\sqrt{-1}.$$ Generally speaking, a complex number is of the form $$z=x+yj$$ where $x$ is the real part and $y$ is the imaginary part."
   ]
  },
  {
   "cell_type": "markdown",
   "id": "6487354c-d768-47fc-9ec3-b82c00b0ce6d",
   "metadata": {},
   "source": [
    "With complex numbers, it now possible to solve $$x=\\sqrt{-4}=\\sqrt{4}\\times\\sqrt{-1}=2j.$$"
   ]
  },
  {
   "cell_type": "markdown",
   "id": "24a8d9b9-0f3a-4575-8ffa-06e56a415605",
   "metadata": {},
   "source": [
    "To create a complex variable in Python, you can use the **_complex()_** function and pass in the real and imaginary parts as arguments."
   ]
  },
  {
   "cell_type": "code",
   "execution_count": 10,
   "id": "81da4ba5-3b8d-4d1b-bc12-5b7865dc5557",
   "metadata": {},
   "outputs": [
    {
     "name": "stdout",
     "output_type": "stream",
     "text": [
      "(1+2j)\n"
     ]
    }
   ],
   "source": [
    "my_complex = complex(1, 2)   # 1 + 2j\n",
    "print(my_complex)"
   ]
  },
  {
   "cell_type": "markdown",
   "id": "e9784f51-7add-45c0-b64f-1f7f743a521e",
   "metadata": {},
   "source": [
    "In this example, **my_complex** is the variable name, and $1$ and $2$ are the real and imaginary parts of the complex number, respectively.\n",
    "\n",
    "You can perform various mathematical operations on complex values, such as addition, subtraction, multiplication, and division, using arithmetic operators like **+, -, *, and /**. "
   ]
  },
  {
   "cell_type": "code",
   "execution_count": 11,
   "id": "e91d1d4d-b366-4f07-bd4b-5aabe5348a59",
   "metadata": {},
   "outputs": [
    {
     "name": "stdout",
     "output_type": "stream",
     "text": [
      "(4+6j)\n"
     ]
    }
   ],
   "source": [
    "x = complex(1, 2) # 1+2j\n",
    "y = complex(3, 4) # 3+4j\n",
    "z = x + y   # z is now 4 + 6j\n",
    "print(z)"
   ]
  },
  {
   "cell_type": "markdown",
   "id": "efa3da3b-a533-41c2-904f-aa4611b6afd0",
   "metadata": {},
   "source": [
    "You can also access the real and imaginary parts of a complex number using the **_real_** and **_imag_** attributes."
   ]
  },
  {
   "cell_type": "code",
   "execution_count": 12,
   "id": "f94d58b4-0570-4bd4-81c8-0e05699d3999",
   "metadata": {},
   "outputs": [
    {
     "name": "stdout",
     "output_type": "stream",
     "text": [
      "(4-3j)\n",
      "The real part is 4.0\n",
      "The imaginary part is -3.0\n"
     ]
    }
   ],
   "source": [
    "my_complex_1 = complex(1, 2) # 1+2j\n",
    "my_complex_2 = complex(3, -5) # 3-5j\n",
    "my_complex_3 = my_complex_1 + my_complex_2 # 4-3j\n",
    "\n",
    "print(my_complex_3)\n",
    "\n",
    "real_part = my_complex_3.real   # real_part is now 4.0\n",
    "imag_part = my_complex_3.imag   # imag_part is now -3.0\n",
    "\n",
    "print(f\"The real part is {real_part}\")\n",
    "\n",
    "print(\"The imaginary part is\", imag_part)"
   ]
  },
  {
   "cell_type": "markdown",
   "id": "47480f13-7017-4e29-b33b-a182927a44f1",
   "metadata": {},
   "source": [
    "In addition, Python provides some built-in functions for working with complex numbers, such as **_abs()_** for calculating the absolute value (magnitude) of a complex number and **_conjugate()_** for calculating the conjugate of a complex number (i.e., negate the imaginary part)."
   ]
  },
  {
   "cell_type": "code",
   "execution_count": 13,
   "id": "268f84c6-9b6f-44c3-bf7a-613cc6f303c0",
   "metadata": {},
   "outputs": [
    {
     "name": "stdout",
     "output_type": "stream",
     "text": [
      "5.0\n",
      "(3-4j)\n"
     ]
    }
   ],
   "source": [
    "#Self written complex number without the **complex()** keyword\n",
    "a = 3 + 4j\n",
    "abs_a = abs(a)   # abs_a is now 5.0\n",
    "\n",
    "print(abs_a)\n",
    "\n",
    "conj_a = a.conjugate()   # conj_a is now (3 - 4j)\n",
    "print(conj_a)"
   ]
  },
  {
   "cell_type": "markdown",
   "id": "0435a5a8-514b-4632-83f1-30142816891f",
   "metadata": {},
   "source": [
    "### Booleans\n",
    "* Booleans are used in programming to make logical decisions and control the flow of program execution.\n",
    "* They are used to store values that are either **_True_** or **_False_**."
   ]
  },
  {
   "cell_type": "code",
   "execution_count": 14,
   "id": "dc9172f2-19f3-4683-9f4f-667406d695f5",
   "metadata": {},
   "outputs": [
    {
     "data": {
      "text/plain": [
       "bool"
      ]
     },
     "execution_count": 14,
     "metadata": {},
     "output_type": "execute_result"
    }
   ],
   "source": [
    "x = True\n",
    "y = False\n",
    "\n",
    "type(x)"
   ]
  },
  {
   "cell_type": "code",
   "execution_count": 15,
   "id": "c0d9ae49-13ae-420a-8921-c81d7297f671",
   "metadata": {},
   "outputs": [
    {
     "data": {
      "text/plain": [
       "bool"
      ]
     },
     "execution_count": 15,
     "metadata": {},
     "output_type": "execute_result"
    }
   ],
   "source": [
    "type(y)"
   ]
  },
  {
   "cell_type": "code",
   "execution_count": 16,
   "id": "ffd2723b-8380-4345-91b2-d03211abcfdb",
   "metadata": {},
   "outputs": [
    {
     "name": "stdout",
     "output_type": "stream",
     "text": [
      "False\n"
     ]
    }
   ],
   "source": [
    "a=7\n",
    "b=-7\n",
    "print(a<b)"
   ]
  },
  {
   "cell_type": "code",
   "execution_count": 18,
   "id": "8baad092-3cc4-46da-b1d5-41122151a736",
   "metadata": {},
   "outputs": [
    {
     "name": "stdout",
     "output_type": "stream",
     "text": [
      "True\n"
     ]
    }
   ],
   "source": [
    "print(a==abs(b))"
   ]
  },
  {
   "cell_type": "code",
   "execution_count": null,
   "id": "4b735bac-cfbe-4e98-9b4e-b1ba0de21ccf",
   "metadata": {},
   "outputs": [],
   "source": []
  }
 ],
 "metadata": {
  "kernelspec": {
   "display_name": "Python 3 (ipykernel)",
   "language": "python",
   "name": "python3"
  },
  "language_info": {
   "codemirror_mode": {
    "name": "ipython",
    "version": 3
   },
   "file_extension": ".py",
   "mimetype": "text/x-python",
   "name": "python",
   "nbconvert_exporter": "python",
   "pygments_lexer": "ipython3",
   "version": "3.9.18"
  }
 },
 "nbformat": 4,
 "nbformat_minor": 5
}
