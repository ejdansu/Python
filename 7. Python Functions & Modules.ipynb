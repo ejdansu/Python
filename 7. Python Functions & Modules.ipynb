{
 "cells": [
  {
   "cell_type": "markdown",
   "id": "8618063b-cdfa-4be6-a2fd-ccfcf1fa8b1a",
   "metadata": {},
   "source": [
    "# Python Functions & Modules\n",
    "* Functions and modules play a crucial role in organizing and implementing scientific computations effectively.\n",
    "* Together, Python functions and modules empower developers to create scalable, well-structured, and easily maintainable codebases.\n",
    "\r\n",
    "\r\n",
    "\r\n"
   ]
  },
  {
   "cell_type": "markdown",
   "id": "54379cdc-4813-4843-8ab2-05cfad5d58e2",
   "metadata": {},
   "source": [
    "## Functions\n",
    "* Functions in Python encapsulate reusable pieces of code that can be called with specific inputs, executing a set of operations, and often returning a result.\n",
    "* They promote modular programming, enhancing code readability, reusability, and maintainability by breaking down complex tasks into smaller, manageable units."
   ]
  },
  {
   "cell_type": "code",
   "execution_count": 1,
   "id": "17027e82-eb4d-492f-9204-a91f8706593d",
   "metadata": {},
   "outputs": [
    {
     "name": "stdout",
     "output_type": "stream",
     "text": [
      "Result of addition: 8\n"
     ]
    }
   ],
   "source": [
    "# Addition Function\n",
    "\n",
    "def add_numbers(a, b):\n",
    "    return a + b\n",
    "\n",
    "result = add_numbers(3, 5)\n",
    "\n",
    "print(\"Result of addition:\", result)"
   ]
  },
  {
   "cell_type": "code",
   "execution_count": 8,
   "id": "f4a19686-fc96-4e9c-afe1-d6c680d9642d",
   "metadata": {},
   "outputs": [
    {
     "name": "stdout",
     "output_type": "stream",
     "text": [
      "Result of addition: 73\n"
     ]
    }
   ],
   "source": [
    "def add_sq(a, b, c):\n",
    "    return a**2 +a*b+ c**2\n",
    "\n",
    "answer1 = add_sq(3, 5, 7)\n",
    "\n",
    "print(\"Result of addition:\", answer1)"
   ]
  },
  {
   "cell_type": "code",
   "execution_count": 9,
   "id": "87d74ffb-54e7-4b70-bd62-4bcaa250c0dc",
   "metadata": {},
   "outputs": [
    {
     "name": "stdout",
     "output_type": "stream",
     "text": [
      "141\n"
     ]
    }
   ],
   "source": [
    "answer2 = add_sq(5, 7, 9)\n",
    "print(answer2)"
   ]
  },
  {
   "cell_type": "code",
   "execution_count": 10,
   "id": "885981a6-a291-4b3a-af93-d002c65cdbb6",
   "metadata": {},
   "outputs": [
    {
     "name": "stdout",
     "output_type": "stream",
     "text": [
      "Factorial of 5: 120\n"
     ]
    }
   ],
   "source": [
    "# Factorial Function\n",
    "\n",
    "def factorial(n):\n",
    "    if n == 0:\n",
    "        return 1\n",
    "    else:\n",
    "        return n * factorial(n-1)\n",
    "\n",
    "result = factorial(5)\n",
    "print(\"Factorial of 5:\", result)"
   ]
  },
  {
   "cell_type": "code",
   "execution_count": 11,
   "id": "4b334b27-fdec-4fb1-9c92-27ba405aec31",
   "metadata": {},
   "outputs": [
    {
     "name": "stdout",
     "output_type": "stream",
     "text": [
      "Factorial of 15: 1307674368000\n"
     ]
    }
   ],
   "source": [
    "result = factorial(15)\n",
    "print(\"Factorial of 15:\", result)"
   ]
  },
  {
   "cell_type": "code",
   "execution_count": 13,
   "id": "7665ed4a-f35b-4737-843f-cd5c92935ccf",
   "metadata": {},
   "outputs": [
    {
     "name": "stdout",
     "output_type": "stream",
     "text": [
      "radar is a palindrome.\n"
     ]
    }
   ],
   "source": [
    "# Palindrome Checker Function\n",
    "\n",
    "def is_palindrome(word):\n",
    "    return word == word[::-1]\n",
    "\n",
    "word = \"radar\"\n",
    "if is_palindrome(word):\n",
    "    print(word, \"is a palindrome.\")\n",
    "else:\n",
    "    print(word, \"is not a palindrome.\")"
   ]
  },
  {
   "cell_type": "code",
   "execution_count": 14,
   "id": "5d5d0b1a-6b93-4387-9aa8-702a039d4232",
   "metadata": {},
   "outputs": [
    {
     "name": "stdout",
     "output_type": "stream",
     "text": [
      "radars is not a palindrome.\n"
     ]
    }
   ],
   "source": [
    "word = \"radars\"\n",
    "if is_palindrome(word):\n",
    "    print(word, \"is a palindrome.\")\n",
    "else:\n",
    "    print(word, \"is not a palindrome.\")"
   ]
  },
  {
   "cell_type": "code",
   "execution_count": 15,
   "id": "1e705b3b-8720-4f94-90a2-829505ef5afc",
   "metadata": {},
   "outputs": [
    {
     "name": "stdout",
     "output_type": "stream",
     "text": [
      "madam is a palindrome.\n"
     ]
    }
   ],
   "source": [
    "word = \"madam\"\n",
    "if is_palindrome(word):\n",
    "    print(word, \"is a palindrome.\")\n",
    "else:\n",
    "    print(word, \"is not a palindrome.\")"
   ]
  },
  {
   "cell_type": "code",
   "execution_count": 12,
   "id": "c68d06e8-d333-4967-9493-f27bf7565fe5",
   "metadata": {},
   "outputs": [
    {
     "name": "stdout",
     "output_type": "stream",
     "text": [
      "Leunamme\n"
     ]
    }
   ],
   "source": [
    "name=\"emmanueL\"\n",
    "print(name[::-1])"
   ]
  },
  {
   "cell_type": "code",
   "execution_count": 16,
   "id": "2cf4b3e4-6a7f-426f-b62a-aeeda2b0e240",
   "metadata": {},
   "outputs": [
    {
     "name": "stdout",
     "output_type": "stream",
     "text": [
      "Square root of 25: 5.0\n"
     ]
    }
   ],
   "source": [
    "# Square Root Function using Newton Method\n",
    "\n",
    "def square_root(n):\n",
    "    approx = n / 2.0\n",
    "    while True:\n",
    "        better = (approx + n / approx) / 2.0\n",
    "        if abs(approx - better) < 0.000001:\n",
    "            return better\n",
    "        approx = better\n",
    "\n",
    "result = square_root(25)\n",
    "print(\"Square root of 25:\", result)"
   ]
  },
  {
   "cell_type": "code",
   "execution_count": 17,
   "id": "61d4a70d-2f94-4d86-ad60-0f9761de766b",
   "metadata": {},
   "outputs": [
    {
     "name": "stdout",
     "output_type": "stream",
     "text": [
      "Square root of 17: 4.123105625617676\n"
     ]
    }
   ],
   "source": [
    "result = square_root(17)\n",
    "print(\"Square root of 17:\", result)"
   ]
  },
  {
   "cell_type": "code",
   "execution_count": 18,
   "id": "77a14da3-f954-4d50-ba0c-71aaa3a46d40",
   "metadata": {},
   "outputs": [
    {
     "name": "stdout",
     "output_type": "stream",
     "text": [
      "Fibonacci Series: [0, 1, 1, 2, 3, 5, 8, 13, 21, 34, 55]\n"
     ]
    }
   ],
   "source": [
    "# Fibonacci Series Function\n",
    "\n",
    "def fibonacci(n):\n",
    "    fib_series = [0, 1]\n",
    "    for i in range(2, n+1):\n",
    "        fib_series.append(fib_series[-1] + fib_series[-2])\n",
    "    return fib_series\n",
    "\n",
    "result = fibonacci(10)\n",
    "print(\"Fibonacci Series:\", result)"
   ]
  },
  {
   "cell_type": "code",
   "execution_count": 19,
   "id": "4ab8ec85-551d-4f47-9e47-61a6514faa78",
   "metadata": {},
   "outputs": [
    {
     "name": "stdout",
     "output_type": "stream",
     "text": [
      "Fibonacci Series: [0, 1, 1, 2, 3, 5, 8, 13, 21, 34, 55, 89, 144, 233, 377, 610, 987, 1597, 2584, 4181, 6765, 10946, 17711, 28657, 46368, 75025, 121393, 196418, 317811, 514229, 832040, 1346269, 2178309, 3524578, 5702887, 9227465, 14930352, 24157817, 39088169, 63245986, 102334155, 165580141, 267914296, 433494437, 701408733, 1134903170, 1836311903, 2971215073, 4807526976, 7778742049, 12586269025]\n"
     ]
    }
   ],
   "source": [
    "result = fibonacci(50)\n",
    "print(\"Fibonacci Series:\", result)"
   ]
  },
  {
   "cell_type": "markdown",
   "id": "f906f0b6-f5dc-4178-98e7-2f183c15eb3a",
   "metadata": {},
   "source": [
    "## Modules\n",
    "* Modules in Python are files containing Python code, including functions, classes, and variables, that can be imported into other Python scripts.\n",
    "* They help organize code into logical units, facilitate code reuse, and support modular programming, enhancing code readability and maintainability.\n",
    "\r\n",
    "\r\n",
    "\r\n"
   ]
  },
  {
   "cell_type": "code",
   "execution_count": 22,
   "id": "7e5d5a37-9f25-4283-ab0a-79f48f7e90bd",
   "metadata": {},
   "outputs": [
    {
     "name": "stdout",
     "output_type": "stream",
     "text": [
      "Value of pi: 3.141592653589793\n",
      "Square root of 16: 4.0\n",
      "Cosine of 0: 1.0\n"
     ]
    }
   ],
   "source": [
    "# Math Module\n",
    "\n",
    "import math\n",
    "\n",
    "print(\"Value of pi:\", math.pi)\n",
    "print(\"Square root of 16:\", math.sqrt(16))\n",
    "print(\"Cosine of 0:\", math.cos(0))"
   ]
  },
  {
   "cell_type": "code",
   "execution_count": 23,
   "id": "903d72cf-de15-46a0-bb15-21c39d7f5a8b",
   "metadata": {},
   "outputs": [
    {
     "name": "stdout",
     "output_type": "stream",
     "text": [
      "Random number between 1 and 100: 17\n"
     ]
    }
   ],
   "source": [
    "# Random Module\n",
    "\n",
    "import random\n",
    "\n",
    "random_number = random.randint(1, 100)\n",
    "print(\"Random number between 1 and 100:\", random_number)"
   ]
  },
  {
   "cell_type": "code",
   "execution_count": 24,
   "id": "727c1cc2-e891-406e-949a-34673b5a0b1f",
   "metadata": {},
   "outputs": [
    {
     "name": "stdout",
     "output_type": "stream",
     "text": [
      "Random number between 6440 and 6580: 6495\n"
     ]
    }
   ],
   "source": [
    "random_number = random.randint(6440, 6580)\n",
    "print(\"Random number between 6440 and 6580:\", random_number)"
   ]
  },
  {
   "cell_type": "code",
   "execution_count": 26,
   "id": "55eb8afe-41b3-4059-b73a-e9345993004e",
   "metadata": {},
   "outputs": [
    {
     "name": "stdout",
     "output_type": "stream",
     "text": [
      "Current date: 2024-05-28\n",
      "Current time: 00:11:27.043247\n"
     ]
    }
   ],
   "source": [
    "# Datetime Module\n",
    "\n",
    "import datetime\n",
    "\n",
    "current_date = datetime.date.today()\n",
    "print(\"Current date:\", current_date)\n",
    "\n",
    "current_time = datetime.datetime.now().time()\n",
    "print(\"Current time:\", current_time)"
   ]
  },
  {
   "cell_type": "code",
   "execution_count": 29,
   "id": "1c976a31-f148-4e70-9838-8dd0d416bca4",
   "metadata": {},
   "outputs": [
    {
     "name": "stdout",
     "output_type": "stream",
     "text": [
      "Current directory: C:\\Users\\ejdan\\Desktop\\Scientific Computing with Python\n",
      "Files in current directory: ['.ipynb_checkpoints', '1. Scientific Computing with Python Introduction.mp4', '1. Scientific Computing with Python Introduction.pdf', '2. Jupyter Notebook.ipynb', '2. Scientific Computing with Python Jupyter Notebook.mp4', '3. Python Variable Data Types.ipynb', '3. Scientific Computing Python Variable Data Types.mp4', '4. Python Variable Data Structures.ipynb', '4. Scientific Computing with Python Variable Data Structures.mp4', '5. Basic Python Operations.ipynb', '5. Scientific Computing with Python Basic Operations.mp4', '6. Python Control Flows.ipynb', '6. Scientific Computing with Python Control Flows.mp4', '7. Python Functions & Modules.ipynb', 'SC1.png', 'SC2.png', 'SC3.png', 'SC4.png', 'SC5.png', 'SC6.png', 'SC7.png', 'Scientific Computing with Python - Drive', 'SCwPy.jpeg']\n"
     ]
    }
   ],
   "source": [
    "# OS Module\n",
    "\n",
    "import os\n",
    "\n",
    "current_directory = os.getcwd()\n",
    "print(\"Current directory:\", current_directory)\n",
    "\n",
    "files_in_directory = os.listdir()\n",
    "print(\"Files in current directory:\", files_in_directory)"
   ]
  },
  {
   "cell_type": "code",
   "execution_count": 30,
   "id": "2dc5cced-180e-4c92-a38e-63ab0dfed3e4",
   "metadata": {},
   "outputs": [
    {
     "name": "stdout",
     "output_type": "stream",
     "text": [
      "Person JSON: {\"name\": \"John\", \"age\": 30, \"city\": \"New York\"}\n",
      "Person Dictionary: {'name': 'John', 'age': 30, 'city': 'New York'}\n"
     ]
    }
   ],
   "source": [
    "# JSON Module\n",
    "\n",
    "import json\n",
    "\n",
    "# Python object (dict) to JSON string\n",
    "person = {\"name\": \"John\", \"age\": 30, \"city\": \"New York\"}\n",
    "person_json = json.dumps(person)\n",
    "print(\"Person JSON:\", person_json)\n",
    "\n",
    "# JSON string to Python object (dict)\n",
    "person_dict = json.loads(person_json)\n",
    "print(\"Person Dictionary:\", person_dict)"
   ]
  },
  {
   "cell_type": "code",
   "execution_count": null,
   "id": "6b227c92-4ef7-404d-8d46-791ddbaec774",
   "metadata": {},
   "outputs": [],
   "source": []
  }
 ],
 "metadata": {
  "kernelspec": {
   "display_name": "Python 3 (ipykernel)",
   "language": "python",
   "name": "python3"
  },
  "language_info": {
   "codemirror_mode": {
    "name": "ipython",
    "version": 3
   },
   "file_extension": ".py",
   "mimetype": "text/x-python",
   "name": "python",
   "nbconvert_exporter": "python",
   "pygments_lexer": "ipython3",
   "version": "3.9.18"
  }
 },
 "nbformat": 4,
 "nbformat_minor": 5
}
