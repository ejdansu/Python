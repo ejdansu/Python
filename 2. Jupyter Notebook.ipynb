{
 "cells": [
  {
   "cell_type": "markdown",
   "id": "77cb6d45-d57a-4c43-8bee-7e3d21770c4b",
   "metadata": {},
   "source": [
    "# Jupyter Notebook\n",
    "## Overview of Jupyter Notebook\n",
    "* *JUPYTER* is a short form for *JUlia*, *PYThon*, and *R*.\n",
    "* Jupyter Notebook is a very useful integrated development environment (IDE) for running Python codes.\n",
    "* It is comparable with Google Colab.\n",
    "* It is used for running codes and trying them out immediately."
   ]
  },
  {
   "cell_type": "markdown",
   "id": "82223fd4-e749-4ccb-9244-b7b2f74732d6",
   "metadata": {},
   "source": [
    "## Capabilities of Jupyter Notebook\n",
    "Using Jupyter Notebook,\n",
    "* You can write codes.\n",
    "* You can write notes.\n",
    "* You can display pictures, graphs, and charts.\n",
    "* You can write equations."
   ]
  },
  {
   "cell_type": "markdown",
   "id": "4257bc0e-0b32-4aec-afea-51835f8fceb4",
   "metadata": {},
   "source": [
    "## Jupyter Notebook Cell Types\n",
    "* Code: This is turned on when you need to write Python codes.\n",
    "* Markdown: This should be used when you need to write notes and equations."
   ]
  },
  {
   "cell_type": "code",
   "execution_count": null,
   "id": "399c7cb6-520a-44d1-b0f6-d6d7836f3a75",
   "metadata": {},
   "outputs": [],
   "source": []
  },
  {
   "cell_type": "markdown",
   "id": "456b328e-3d03-4390-b3e0-94bb830d0fa5",
   "metadata": {},
   "source": [
    "## Jupyter Notebook Short Cuts\n",
    "* Creating new cells\n",
    "    * Below a cell: Press **Esc** on keyboard and press *b*\n",
    "    * Above a cell: Press **Esc** on keyboard and press *a*\n",
    "* Convert code cell to markdown cell: Press **Esc** on keyboard and press *m*\n",
    "* Convert markdown cell to code cell: Press **Esc** on keyboard and press *y*\n",
    "* Delete a cell: Press **Esc** on keyboard and press *dd*"
   ]
  },
  {
   "cell_type": "code",
   "execution_count": null,
   "id": "b3731791-01cd-42e9-ab9a-c303864cbd28",
   "metadata": {},
   "outputs": [],
   "source": []
  },
  {
   "cell_type": "markdown",
   "id": "7f3e17d0-cf41-44ef-81a1-6688bc564419",
   "metadata": {},
   "source": [
    "## Writing Python Codes in Jupter Notebook"
   ]
  },
  {
   "cell_type": "code",
   "execution_count": 1,
   "id": "979ede0e-5064-4870-82e5-c669dc3fbc00",
   "metadata": {},
   "outputs": [
    {
     "name": "stdout",
     "output_type": "stream",
     "text": [
      "Hello, world!\n"
     ]
    }
   ],
   "source": [
    "print(\"Hello, world!\")"
   ]
  },
  {
   "cell_type": "code",
   "execution_count": 4,
   "id": "0912d0f9-6563-4d49-9917-6fdc12a3cc10",
   "metadata": {},
   "outputs": [
    {
     "name": "stdout",
     "output_type": "stream",
     "text": [
      "10.2\n",
      "21.6\n",
      "9.000000000000002\n"
     ]
    }
   ],
   "source": [
    "x=3\n",
    "y=7.2\n",
    "z=2.4\n",
    "\n",
    "print(x+y)\n",
    "print(x*y)\n",
    "print(x*y/z)"
   ]
  },
  {
   "cell_type": "markdown",
   "id": "446ce31f-c576-4bef-8384-910d1012853b",
   "metadata": {},
   "source": [
    "## Writing Equations in Jupyter Notebook"
   ]
  },
  {
   "cell_type": "markdown",
   "id": "3784e9d7-46f0-42dc-b233-aa0f4271ab7d",
   "metadata": {},
   "source": [
    "The quadratic equation is given as $$ax^2+bx+c=0$$ and its solution is given as $$x=\\dfrac{-b\\pm\\sqrt{b^2-4ac}}{2a}.$$"
   ]
  },
  {
   "cell_type": "code",
   "execution_count": 6,
   "id": "a4eee390-6ba9-4831-9154-744c5459ba8c",
   "metadata": {},
   "outputs": [
    {
     "data": {
      "text/html": [
       "<img src=\"https://www.python.org/static/community_logos/python-logo-master-v3-TM.png\"/>"
      ],
      "text/plain": [
       "<IPython.core.display.Image object>"
      ]
     },
     "execution_count": 6,
     "metadata": {},
     "output_type": "execute_result"
    }
   ],
   "source": [
    "from IPython.display import display, Image, HTML, Math\n",
    "Image(url='https://www.python.org/static/community_logos/python-logo-master-v3-TM.png')"
   ]
  }
 ],
 "metadata": {
  "kernelspec": {
   "display_name": "Python 3 (ipykernel)",
   "language": "python",
   "name": "python3"
  },
  "language_info": {
   "codemirror_mode": {
    "name": "ipython",
    "version": 3
   },
   "file_extension": ".py",
   "mimetype": "text/x-python",
   "name": "python",
   "nbconvert_exporter": "python",
   "pygments_lexer": "ipython3",
   "version": "3.9.18"
  }
 },
 "nbformat": 4,
 "nbformat_minor": 5
}
