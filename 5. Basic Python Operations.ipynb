{
 "cells": [
  {
   "cell_type": "markdown",
   "id": "2115faca-3172-4a93-aef8-aa472d8db893",
   "metadata": {},
   "source": [
    "# Arithmetic Operations\n",
    "Python's arithmetic operators perform basic mathematical calculations on numbers.\n",
    "\n",
    "| Operation        | Syntax           | Example  |\n",
    "| ---------------- |:----------------:| --------:|\n",
    "| Addition         | a + b            | 2 + 3 = 5|\n",
    "| Subtraction      | a - b            | 6 - 4 = 2|\n",
    "| Multiplication   | a * b            | 2 * 3 = 6|\n",
    "| Division         | a / b            | 6 / 2 = 3|\n",
    "| Integer division | a // b           | 7 // 3 = 2|\n",
    "| Modulo           | a % b            | 7 % 3 = 1|\n",
    "| Exponentiation   | a ** b           | 2 ** 3 = 8|\n",
    "| Absolute value   | abs()            | abs(-5)= 5|\n"
   ]
  },
  {
   "cell_type": "code",
   "execution_count": 1,
   "id": "57d69518-6e57-441c-8d39-0390207afd9f",
   "metadata": {},
   "outputs": [],
   "source": [
    "a=15\n",
    "b=4\n",
    "c=7\n",
    "d=-11 "
   ]
  },
  {
   "cell_type": "code",
   "execution_count": 7,
   "id": "ee35809a-fd01-4aa8-abf2-ccf5bdbf310a",
   "metadata": {},
   "outputs": [
    {
     "name": "stdout",
     "output_type": "stream",
     "text": [
      "19\n",
      "18\n",
      "-165\n",
      "2.384185791015625e-07\n",
      "1.75\n"
     ]
    }
   ],
   "source": [
    "print(a+b)\n",
    "print(c-d)\n",
    "print(a*d)\n",
    "print(b**d)\n",
    "print(c/b)"
   ]
  },
  {
   "cell_type": "code",
   "execution_count": 8,
   "id": "2d7862dc-a1c2-4960-a543-386843dfc4c6",
   "metadata": {},
   "outputs": [
    {
     "name": "stdout",
     "output_type": "stream",
     "text": [
      "3\n",
      "2\n"
     ]
    }
   ],
   "source": [
    "print(a//b) #3\n",
    "print(a//c) #2"
   ]
  },
  {
   "cell_type": "code",
   "execution_count": 9,
   "id": "5e02de3d-5943-4207-bbe6-61dfbced5c34",
   "metadata": {},
   "outputs": [
    {
     "name": "stdout",
     "output_type": "stream",
     "text": [
      "3\n",
      "1\n"
     ]
    }
   ],
   "source": [
    "print(a%b) #3\n",
    "print(a%c) #1"
   ]
  },
  {
   "cell_type": "code",
   "execution_count": 10,
   "id": "88a1ae24-d089-491f-acc5-39b297874beb",
   "metadata": {},
   "outputs": [
    {
     "name": "stdout",
     "output_type": "stream",
     "text": [
      "50625\n",
      "0.00048828125\n"
     ]
    }
   ],
   "source": [
    "print(a**b)\n",
    "print(2**d)"
   ]
  },
  {
   "cell_type": "code",
   "execution_count": 11,
   "id": "412c1b8d-fe93-4839-88a8-b0d27ddad808",
   "metadata": {},
   "outputs": [
    {
     "name": "stdout",
     "output_type": "stream",
     "text": [
      "11\n",
      "8\n"
     ]
    }
   ],
   "source": [
    "print(abs(d)) # 11\n",
    "print(abs(c-a)) # 8"
   ]
  },
  {
   "cell_type": "code",
   "execution_count": 13,
   "id": "44ebbb0c-7cf3-4523-a1ef-2adc44827ca8",
   "metadata": {},
   "outputs": [
    {
     "name": "stdin",
     "output_type": "stream",
     "text": [
      "Type in number seconds:  2564\n"
     ]
    },
    {
     "name": "stdout",
     "output_type": "stream",
     "text": [
      "\n",
      "42\n",
      "\n",
      "44\n",
      "\n",
      "2564 seconds is equal to 42 minutes and 44 seconds.\n"
     ]
    }
   ],
   "source": [
    "# Wrap seconds to stay within 0 and 59\n",
    "\n",
    "total_seconds = int(input(\"Type in number seconds: \"))\n",
    "\n",
    "print()\n",
    "\n",
    "number_of_minutes = total_seconds//60\n",
    "\n",
    "wrapped_seconds = total_seconds % 60\n",
    "\n",
    "print(number_of_minutes)\n",
    "\n",
    "print()\n",
    "\n",
    "print(wrapped_seconds)\n",
    "\n",
    "print()\n",
    "\n",
    "print(f\"{total_seconds} seconds is equal to {number_of_minutes} minutes and {wrapped_seconds} seconds.\")"
   ]
  },
  {
   "cell_type": "code",
   "execution_count": null,
   "id": "7118e849-f643-4de4-bc8b-807f47058b8a",
   "metadata": {},
   "outputs": [],
   "source": [
    "# Convert minutes to hours and minutes\n",
    "\n",
    "total_minutes = 241708\n",
    "\n",
    "hours = total_minutes // 60\n",
    "\n",
    "minutes = total_minutes % 60\n",
    "\n",
    "print(f\"{total_minutes} minutes is the same as {hours} hours and {minutes} minutes\")"
   ]
  },
  {
   "cell_type": "markdown",
   "id": "6487ffae-a859-464f-a8e1-0715720fd4d2",
   "metadata": {},
   "source": [
    "# Boolean Operations\n",
    "Boolean operations are used in Python to combine logical conditions and evaluate to True or False.\n",
    "| Operation        | Syntax           | Example  |\n",
    "| ---------------- |:----------------:| --------:|\n",
    "| Logical AND      | a and b          | True and False = False|\n",
    "| Logical OR       | a or b           | True or False = True|\n",
    "| Logical NOT      | not a            | not True = False|\n",
    "| Equality         | a == b           | 2 == 2 = True|\n",
    "| Inequality       | a != b           | 2 != 3 = True|\n",
    "| Greater than     | a > b            | 5 > 3 = True|\n",
    "| Less than        | a < b            | 5 < 3 = False|\n",
    "| Greater or equal | a >= b           | 5 >= 5 = True|\n",
    "| Less or equal    | a <= b           | 5 <= 3 = False|\n"
   ]
  },
  {
   "cell_type": "code",
   "execution_count": 14,
   "id": "4d9a3b72-41f9-4859-8c0c-75532de12efa",
   "metadata": {},
   "outputs": [
    {
     "name": "stdout",
     "output_type": "stream",
     "text": [
      "False\n",
      "True\n",
      "False\n",
      "True\n",
      "True\n",
      "False\n"
     ]
    }
   ],
   "source": [
    "x= 2\n",
    "y=-2\n",
    "\n",
    "print(x==y) # False\n",
    "print(x==abs(y)) # True\n",
    "print(x<y) # False\n",
    "print(x!=y) # True\n",
    "print(x>=y) # True\n",
    "print(x!=abs(y)) # False"
   ]
  },
  {
   "cell_type": "markdown",
   "id": "9a9e3af4-4f20-4261-9bc5-5eac5ffd6d86",
   "metadata": {},
   "source": [
    "# In and Not In Operations\n",
    "\n",
    "* The **_in_** and **_not in_** operators are used to test whether a value is a member of a sequence, such as a string, list, or tuple.\n",
    "\n",
    "* The **_in_** operator returns True if the value is found in the sequence, and False otherwise. "
   ]
  },
  {
   "cell_type": "code",
   "execution_count": 15,
   "id": "f12b7822-7904-4bdc-839e-c4b5319003f7",
   "metadata": {},
   "outputs": [
    {
     "name": "stdout",
     "output_type": "stream",
     "text": [
      "False\n",
      "True\n"
     ]
    }
   ],
   "source": [
    "my_list = [1, 2, 3, 4, 5]\n",
    "print(3 not in my_list)  # Output: False\n",
    "print(6 not in my_list)  # Output: True"
   ]
  },
  {
   "cell_type": "code",
   "execution_count": 16,
   "id": "3df3fd28-695f-4ae9-9a18-d8bec3e30cdf",
   "metadata": {},
   "outputs": [
    {
     "name": "stdout",
     "output_type": "stream",
     "text": [
      "False\n",
      "True\n",
      "False\n",
      "True\n"
     ]
    }
   ],
   "source": [
    "my_string = \"hello world\"\n",
    "print(\"o\" not in my_string)  # Output: False\n",
    "print(\"z\" not in my_string)  # Output: True\n",
    "print(\"lo w\" not in my_string)  # Output: False\n",
    "print(\"low\" not in my_string)  # Output: True"
   ]
  },
  {
   "cell_type": "code",
   "execution_count": 17,
   "id": "e24bc4df-81ad-4ada-8fb5-5290b8567f41",
   "metadata": {},
   "outputs": [
    {
     "name": "stdout",
     "output_type": "stream",
     "text": [
      "False\n"
     ]
    }
   ],
   "source": [
    "my_tuple=(\"Ade\", \"Bayo\", \"Clara\", \"Dayo\", \"Emma\")\n",
    "\n",
    "print(\"Tayo\" in my_tuple)"
   ]
  },
  {
   "cell_type": "code",
   "execution_count": 18,
   "id": "1b458324-a83c-4a1f-9401-2814e0204d28",
   "metadata": {},
   "outputs": [
    {
     "name": "stdout",
     "output_type": "stream",
     "text": [
      "True\n"
     ]
    }
   ],
   "source": [
    "print(\"Emma\" in my_tuple)"
   ]
  }
 ],
 "metadata": {
  "kernelspec": {
   "display_name": "Python 3 (ipykernel)",
   "language": "python",
   "name": "python3"
  },
  "language_info": {
   "codemirror_mode": {
    "name": "ipython",
    "version": 3
   },
   "file_extension": ".py",
   "mimetype": "text/x-python",
   "name": "python",
   "nbconvert_exporter": "python",
   "pygments_lexer": "ipython3",
   "version": "3.9.18"
  }
 },
 "nbformat": 4,
 "nbformat_minor": 5
}
